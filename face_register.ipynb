{
 "cells": [
  {
   "cell_type": "code",
   "execution_count": 1,
   "metadata": {},
   "outputs": [],
   "source": [
    "import cv2,os\n",
    "import numpy as np\n",
    "\n",
    "dir=\"servmedir\""
   ]
  },
  {
   "cell_type": "code",
   "execution_count": 2,
   "metadata": {},
   "outputs": [],
   "source": [
    "def detect_face(img,i,val):\n",
    "\n",
    "    gray = cv2.cvtColor(img, cv2.COLOR_BGR2GRAY)\n",
    "    \n",
    "    face_cascade = cv2.CascadeClassifier('lbpcascade_frontalface.xml')\n",
    "    \n",
    "    faces = face_cascade.detectMultiScale(gray, scaleFactor=1.2, minNeighbors=2);\n",
    "    \n",
    "    if (len(faces) == 0):\n",
    "        return faces\n",
    "    for j,(x,y,w,h) in enumerate(faces):\n",
    "        secdir=dir+\"/s\"+str(val+(j+1))+\"/\"\n",
    "        if not(os.path.exists(secdir)):\n",
    "            os.makedirs(secdir)\n",
    "        cv2.imwrite(secdir+str(i)+'.jpg',gray[y:y+w, x:x+h])\n",
    "    return faces\n",
    "#     return gray[y:y+w, x:x+h], faces[0]"
   ]
  },
  {
   "cell_type": "code",
   "execution_count": 3,
   "metadata": {},
   "outputs": [],
   "source": [
    "cap = cv2.VideoCapture(0)\n",
    "i=1\n",
    "val = len(os.listdir(dir))\n",
    "while i<51:\n",
    "    ret,frame = cap.read()\n",
    "    frame = cv2.flip(frame,1)\n",
    "    faces = detect_face(frame,i,val)\n",
    "    if(len(faces)!=0):\n",
    "        i+=1\n",
    "    cv2.putText(frame, str(i), (50,50), cv2.FONT_HERSHEY_PLAIN, 2, (0, 255, 0), 2)\n",
    "    cv2.imshow('live',frame)\n",
    "    cv2.waitKey(1)\n",
    "cap.release()\n",
    "cv2.destroyAllWindows()\n"
   ]
  },
  {
   "cell_type": "code",
   "execution_count": null,
   "metadata": {},
   "outputs": [],
   "source": [
    "\n"
   ]
  }
 ],
 "metadata": {
  "kernelspec": {
   "display_name": "Python 3",
   "language": "python",
   "name": "python3"
  },
  "language_info": {
   "codemirror_mode": {
    "name": "ipython",
    "version": 3
   },
   "file_extension": ".py",
   "mimetype": "text/x-python",
   "name": "python",
   "nbconvert_exporter": "python",
   "pygments_lexer": "ipython3",
   "version": "3.6.5"
  }
 },
 "nbformat": 4,
 "nbformat_minor": 2
}
