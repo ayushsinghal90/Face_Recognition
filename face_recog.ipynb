{
 "cells": [
  {
   "cell_type": "code",
   "execution_count": 37,
   "metadata": {},
   "outputs": [],
   "source": [
    "import cv2,os\n",
    "import numpy as np\n",
    "\n",
    "subjects = [\"\",\"s1\", \"s2\", \"s3\",\"s4\"]"
   ]
  },
  {
   "cell_type": "code",
   "execution_count": 38,
   "metadata": {},
   "outputs": [],
   "source": [
    "def detect_face(img):\n",
    "\n",
    "    gray = cv2.cvtColor(img, cv2.COLOR_BGR2GRAY)\n",
    "    \n",
    "    face_cascade = cv2.CascadeClassifier('lbpcascade_frontalface.xml')\n",
    "    \n",
    "    faces = face_cascade.detectMultiScale(gray, scaleFactor=1.2, minNeighbors=2);\n",
    "    \n",
    "    if (len(faces) == 0):\n",
    "        return None, None\n",
    "    faceass=[]\n",
    "    grayass=[]\n",
    "    for j,(x,y,w,h) in enumerate(faces):\n",
    "        faceass.append(faces[j])\n",
    "        grayass.append(gray[y:y+w, x:x+h])\n",
    "\n",
    "    return grayass, faceass"
   ]
  },
  {
   "cell_type": "code",
   "execution_count": 39,
   "metadata": {},
   "outputs": [],
   "source": [
    "def prepare_training_data():\n",
    "    dirs = os.listdir(\"servmedir\")\n",
    "    \n",
    "    faces = []\n",
    "    labels = []\n",
    "    \n",
    "    for dir_name in dirs:\n",
    "        \n",
    "        if not dir_name.startswith(\"s\"):\n",
    "            continue;\n",
    "        \n",
    "        label = int(dir_name.replace(\"s\",\"\"))\n",
    "        \n",
    "        subject_dir_path = \"trainidt\"+\"/\"+dir_name\n",
    "        \n",
    "        subject_images_names = os.listdir(subject_dir_path)\n",
    "        \n",
    "        for image_name in subject_images_names:\n",
    "            if image_name.startswith(\".\"):\n",
    "                continue;\n",
    "            \n",
    "            image_path = subject_dir_path + \"/\" + image_name\n",
    "            \n",
    "            face = cv2.imread(image_path)\n",
    "            face = cv2.cvtColor(face, cv2.COLOR_BGR2GRAY)\n",
    "            \n",
    "            if face is not None:\n",
    "                faces.append(face)\n",
    "                labels.append(label)\n",
    "    return faces, labels\n",
    "\n",
    "faces, labels = prepare_training_data()\n",
    "\n",
    "face_recognizer = cv2.face.createLBPHFaceRecognizer()"
   ]
  },
  {
   "cell_type": "code",
   "execution_count": 40,
   "metadata": {},
   "outputs": [],
   "source": [
    "face_recognizer.train(faces, np.array(labels))"
   ]
  },
  {
   "cell_type": "code",
   "execution_count": 41,
   "metadata": {},
   "outputs": [],
   "source": [
    "def draw_rectangle(img, rect):\n",
    "    (x, y, w, h) = rect\n",
    "    cv2.rectangle(img, (x, y), (x+w, y+h), (0, 255, 0), 2)\n",
    "\n",
    "\n",
    "def draw_text(img, text, rect):\n",
    "    (x,y,w,h)=rect\n",
    "    cv2.putText(img, text, (x+(w//2)-15, y-5), cv2.FONT_HERSHEY_PLAIN, 2, (0, 255, 0), 2)"
   ]
  },
  {
   "cell_type": "code",
   "execution_count": 42,
   "metadata": {},
   "outputs": [],
   "source": [
    "def predict(test_img):\n",
    "    img = test_img.copy()\n",
    "    \n",
    "    faces, rects = detect_face(img)\n",
    "    \n",
    "    if faces is None:\n",
    "        return None\n",
    "    \n",
    "    for i,face in enumerate(faces):\n",
    "        rect = rects[i]\n",
    "        label,predict= face_recognizer.predict(face)\n",
    "        \n",
    "        label_text = subjects[label]\n",
    "        \n",
    "        draw_rectangle(img, rect)\n",
    "        \n",
    "        draw_text(img, label_text, rect)\n",
    "    \n",
    "    return img"
   ]
  },
  {
   "cell_type": "code",
   "execution_count": null,
   "metadata": {},
   "outputs": [],
   "source": [
    "# test_img1 = cv2.imread(\"t1.jpg\")\n",
    " \n",
    "# img1 = predict(test_img1)\n",
    "# img2 = predict(test_img2)\n",
    "# print(\"Prediction complete\")\n",
    "\n",
    "# scale_percent = 35 # percent of original size\n",
    "# width = int(img1.shape[1] * scale_percent / 100)\n",
    "# height = int(img1.shape[0] * scale_percent / 100)\n",
    "# dim = (width, height)\n",
    " \n",
    "# # resize image\n",
    "# img4 = cv2.resize(img1, dim, interpolation = cv2.INTER_AREA)\n",
    "# img5 = cv2.resize(img2, dim, interpolation = cv2.INTER_AREA)\n",
    "\n",
    "# cv2.imshow(subjects[1], img4)\n",
    "# cv2.imshow(subjects[2], img5)\n",
    "# cv2.waitKey(0)"
   ]
  },
  {
   "cell_type": "code",
   "execution_count": 44,
   "metadata": {},
   "outputs": [],
   "source": [
    "# cv2.destroyAllWindows()\n",
    "\n",
    "cap = cv2.VideoCapture(0)\n",
    "while True:\n",
    "    ret,frame = cap.read()\n",
    "    frame = cv2.flip(frame,1)\n",
    "    nface = predict(frame)\n",
    "    if nface is None:\n",
    "        cv2.imshow('live',frame)\n",
    "    else:\n",
    "        cv2.imshow('live',nface)\n",
    "    if cv2.waitKey(1)== 10:#Enter key to check keypress code use print(cv2.waitkey())and press key after imshow\n",
    "        break\n",
    "cap.release()\n",
    "cv2.destroyAllWindows()"
   ]
  },
  {
   "cell_type": "code",
   "execution_count": null,
   "metadata": {},
   "outputs": [],
   "source": []
  }
 ],
 "metadata": {
  "kernelspec": {
   "display_name": "Python 3",
   "language": "python",
   "name": "python3"
  },
  "language_info": {
   "codemirror_mode": {
    "name": "ipython",
    "version": 3
   },
   "file_extension": ".py",
   "mimetype": "text/x-python",
   "name": "python",
   "nbconvert_exporter": "python",
   "pygments_lexer": "ipython3",
   "version": "3.6.5"
  }
 },
 "nbformat": 4,
 "nbformat_minor": 2
}
